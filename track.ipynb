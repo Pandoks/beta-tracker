{
 "cells": [
  {
   "cell_type": "code",
   "execution_count": 1,
   "metadata": {},
   "outputs": [],
   "source": [
    "from ultralytics import YOLO\n",
    "import multiprocessing"
   ]
  },
  {
   "cell_type": "code",
   "execution_count": 11,
   "metadata": {},
   "outputs": [],
   "source": [
    "player_model = YOLO(\"models/yolo/yolov8t.pt\")\n",
    "court_model = YOLO(\"models/yolo/yolov8c.pt\")"
   ]
  },
  {
   "cell_type": "code",
   "execution_count": 12,
   "metadata": {},
   "outputs": [],
   "source": [
    "player_detections = player_model.track(source=\"data/yolo/video.mp4\", project=\"./\", conf=0.1, stream=True, show=True)\n",
    "court_detections = court_model.track(source=\"data/yolo/video.mp4\", project=\"./\", conf=0.1, stream=True, show=True)"
   ]
  },
  {
   "cell_type": "code",
   "execution_count": 2,
   "metadata": {},
   "outputs": [],
   "source": [
    "def detect(detection_list, model_path, source):\n",
    "    model = YOLO(model_path)\n",
    "    detections = model.track(source=source, project=\"./\", conf=0.1, stream=True, show=True)\n",
    "    for detection in detections:\n",
    "         detection_list.append(detection)"
   ]
  },
  {
   "cell_type": "code",
   "execution_count": 5,
   "metadata": {},
   "outputs": [],
   "source": [
    "def detect(detection_list, model_path, source):\n",
    "    model = YOLO(model_path)\n",
    "    detections = model.track(source=source, project=\"./\", conf=0.1, stream=True, show=True)\n",
    "    for detection in detections:\n",
    "         detection_list.append(detection)\n",
    "         \n",
    "def track():\n",
    "    thread_manager = multiprocessing.Manager()\n",
    "    player_detection_list = thread_manager.list()\n",
    "    court_detection_list = thread_manager.list()\n",
    "\n",
    "    player_thread = multiprocessing.Process(target=detect, args=(player_detection_list, \"models/yolo/yolov8t.pt\", \"data/yolo/video.mp4\"))\n",
    "    court_thread = multiprocessing.Process(target=detect, args=(court_detection_list, \"models/yolo/yolov8c.pt\", \"data/yolo/video.mp4\"))\n",
    "\n",
    "    player_thread.start()\n",
    "    court_thread.start()\n",
    "\n",
    "    index = 0\n",
    "    while player_thread.is_alive() or court_thread.is_alive() or player_detection_list or court_detection_list:\n",
    "        if len(player_detection_list) <= index and len(court_detection_list) <= index:\n",
    "            continue\n",
    "\n",
    "        player_data = player_detection_list[index] \n",
    "        court_data = court_detection_list[index]\n",
    "        index += 1\n",
    "        \n",
    "    player_thread.join()\n",
    "    court_thread.join()\n"
   ]
  },
  {
   "cell_type": "code",
   "execution_count": 6,
   "metadata": {},
   "outputs": [
    {
     "name": "stderr",
     "output_type": "stream",
     "text": [
      "Traceback (most recent call last):\n",
      "  File \"<string>\", line 1, in <module>\n",
      "  File \"/opt/homebrew/Cellar/python@3.9/3.9.18_1/Frameworks/Python.framework/Versions/3.9/lib/python3.9/multiprocessing/spawn.py\", line 116, in spawn_main\n",
      "    exitcode = _main(fd, parent_sentinel)\n",
      "  File \"/opt/homebrew/Cellar/python@3.9/3.9.18_1/Frameworks/Python.framework/Versions/3.9/lib/python3.9/multiprocessing/spawn.py\", line 126, in _main\n",
      "    self = reduction.pickle.load(from_parent)\n",
      "AttributeError: Can't get attribute 'detect' on <module '__main__' (built-in)>\n",
      "Traceback (most recent call last):\n",
      "  File \"<string>\", line 1, in <module>\n",
      "  File \"/opt/homebrew/Cellar/python@3.9/3.9.18_1/Frameworks/Python.framework/Versions/3.9/lib/python3.9/multiprocessing/spawn.py\", line 116, in spawn_main\n",
      "    exitcode = _main(fd, parent_sentinel)\n",
      "  File \"/opt/homebrew/Cellar/python@3.9/3.9.18_1/Frameworks/Python.framework/Versions/3.9/lib/python3.9/multiprocessing/spawn.py\", line 126, in _main\n",
      "    self = reduction.pickle.load(from_parent)\n",
      "AttributeError: Can't get attribute 'detect' on <module '__main__' (built-in)>\n"
     ]
    }
   ],
   "source": [
    "track()"
   ]
  },
  {
   "cell_type": "code",
   "execution_count": null,
   "metadata": {},
   "outputs": [],
   "source": []
  }
 ],
 "metadata": {
  "kernelspec": {
   "display_name": "Python 3",
   "language": "python",
   "name": "python3"
  },
  "language_info": {
   "codemirror_mode": {
    "name": "ipython",
    "version": 3
   },
   "file_extension": ".py",
   "mimetype": "text/x-python",
   "name": "python",
   "nbconvert_exporter": "python",
   "pygments_lexer": "ipython3",
   "version": "3.9.18"
  }
 },
 "nbformat": 4,
 "nbformat_minor": 2
}
